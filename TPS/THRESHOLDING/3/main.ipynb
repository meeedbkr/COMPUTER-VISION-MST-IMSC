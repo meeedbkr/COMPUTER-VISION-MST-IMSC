{
 "cells": [
  {
   "cell_type": "code",
   "execution_count": 1,
   "id": "7ab93cb7-ce56-4495-9ee6-2db85d68c234",
   "metadata": {
    "tags": []
   },
   "outputs": [
    {
     "data": {
      "text/plain": [
       "27"
      ]
     },
     "execution_count": 1,
     "metadata": {},
     "output_type": "execute_result"
    }
   ],
   "source": [
    "import cv2\n",
    "\n",
    "# Charger l'image en niveaux de gris\n",
    "img = cv2.imread('..//..//assets//sudoku.png', cv2.IMREAD_GRAYSCALE)\n",
    "img = cv2.resize( img, None, fx=0.5, fy=0.5, interpolation=cv2.INTER_AREA )\n",
    "\n",
    "# Appliquer le seuillage adaptatif\n",
    "th = cv2.adaptiveThreshold(img, 255, cv2.ADAPTIVE_THRESH_GAUSSIAN_C, cv2.THRESH_BINARY, 11, 2)\n",
    "\n",
    "# Afficher le résultat\n",
    "cv2.imshow('Image', img)   # Afficher l'image originale\n",
    "cv2.imshow('Seuillage adaptatif', th)   # Afficher l'image seuillée\n",
    "cv2.waitKey(0)   # Attendre la pression d'une touche pour fermer les fenêtres\n"
   ]
  },
  {
   "cell_type": "code",
   "execution_count": null,
   "id": "75b49751-9a5e-4908-972d-04f6d3b7f56f",
   "metadata": {},
   "outputs": [],
   "source": []
  }
 ],
 "metadata": {
  "kernelspec": {
   "display_name": "Python 3 (ipykernel)",
   "language": "python",
   "name": "python3"
  },
  "language_info": {
   "codemirror_mode": {
    "name": "ipython",
    "version": 3
   },
   "file_extension": ".py",
   "mimetype": "text/x-python",
   "name": "python",
   "nbconvert_exporter": "python",
   "pygments_lexer": "ipython3",
   "version": "3.9.10"
  }
 },
 "nbformat": 4,
 "nbformat_minor": 5
}
