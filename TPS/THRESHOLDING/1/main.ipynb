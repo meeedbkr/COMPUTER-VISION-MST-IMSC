{
 "cells": [
  {
   "cell_type": "code",
   "execution_count": null,
   "id": "f87b5413-621f-4ebe-9d84-5046a08e6b78",
   "metadata": {},
   "outputs": [],
   "source": [
    "# Import the OpenCV library\n",
    "import cv2\n",
    "\n",
    "# Load the image\n",
    "image = cv2.imread('C:/Users/PC/Pictures/sudoku.png')\n",
    "\n",
    "# Convert the image to grayscale\n",
    "gray_image = cv2.cvtColor(image, cv2.COLOR_BGR2GRAY)\n",
    "\n",
    "# Apply thresholding with a threshold value of 127\n",
    "threshold_value = 5\n",
    "max_value = 255\n",
    "_, binary_image = cv2.threshold(gray_image, threshold_value, max_value, cv2.THRESH_BINARY)\n",
    "\n",
    "# Display the binary image\n",
    "cv2.imshow('Binary Image', binary_image)\n",
    "cv2.waitKey(0)  # Wait for a key press to exit\n",
    "cv2.destroyAllWindows()  # Close all windows when done displaying the image.\n"
   ]
  }
 ],
 "metadata": {
  "kernelspec": {
   "display_name": "Python 3 (ipykernel)",
   "language": "python",
   "name": "python3"
  },
  "language_info": {
   "codemirror_mode": {
    "name": "ipython",
    "version": 3
   },
   "file_extension": ".py",
   "mimetype": "text/x-python",
   "name": "python",
   "nbconvert_exporter": "python",
   "pygments_lexer": "ipython3",
   "version": "3.9.10"
  }
 },
 "nbformat": 4,
 "nbformat_minor": 5
}
