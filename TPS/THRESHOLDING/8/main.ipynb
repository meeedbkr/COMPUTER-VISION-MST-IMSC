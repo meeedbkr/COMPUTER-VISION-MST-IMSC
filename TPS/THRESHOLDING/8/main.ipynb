{
 "cells": [
  {
   "cell_type": "code",
   "execution_count": 1,
   "id": "2123e8d6-3633-4fb4-a69e-20ba6e68c5e9",
   "metadata": {
    "tags": []
   },
   "outputs": [],
   "source": [
    "import cv2  # import the OpenCV library\n",
    "\n",
    "# create a list of window names for displaying the thresholded frames\n",
    "windowNames = ['Binary', 'Binary Inv', 'Zero', 'Zero Inv', 'Trunc']\n",
    "\n",
    "# create a VideoCapture object to read frames from the default camera\n",
    "cap = cv2.VideoCapture(0)\n",
    "\n",
    "# check if the camera is opened successfully\n",
    "if cap.isOpened():\n",
    "    ret, frame = cap.read()  # read a frame from the camera\n",
    "else:\n",
    "    ret = False\n",
    "\n",
    "# loop until the user presses the Esc key or the camera fails to read a frame\n",
    "while ret:\n",
    "    ret, frame = cap.read()  # read a frame from the camera\n",
    "    th = 127  # set the threshold value\n",
    "    max_val = 255  # set the maximum pixel value\n",
    "    # block_size = 255\n",
    "    # constant = 2\n",
    "\n",
    "    # apply different thresholding techniques to the frame\n",
    "    ret, o1 = cv2.threshold(frame, th, max_val, cv2.THRESH_BINARY)\n",
    "    ret, o2 = cv2.threshold(frame, th, max_val, cv2.THRESH_BINARY_INV)\n",
    "    ret, o3 = cv2.threshold(frame, th, max_val, cv2.THRESH_TOZERO)\n",
    "    ret, o4 = cv2.threshold(frame, th, max_val, cv2.THRESH_TOZERO_INV)\n",
    "    ret, o5 = cv2.threshold(frame, th, max_val, cv2.THRESH_TRUNC)\n",
    "    \"\"\"\n",
    "    o4 = cv2.adaptiveThreshold(frame, 255, cv2.ADAPTIVE_THRESH_MEAN_C, cv2.THRESH_BINARY, 512, 2)\n",
    "    o5 = cv2.adaptiveThreshold(frame, 255, cv2.ADAPTIVE_THRESH_GAUSSIAN_C, cv2.THRESH_BINARY, 512, 2)\n",
    "    \"\"\"\n",
    "\n",
    "    # display the thresholded frames in different windows\n",
    "    cv2.imshow(windowNames[0], o1)\n",
    "    cv2.imshow(windowNames[1], o2)\n",
    "    cv2.imshow(windowNames[2], o3)\n",
    "    cv2.imshow(windowNames[3], o4)\n",
    "    cv2.imshow(windowNames[4], o5)\n",
    "\n",
    "    # wait for a key press event for 1 millisecond, and check if the Esc key was pressed\n",
    "    if cv2.waitKey(1) == 27:\n",
    "        break\n",
    "\n",
    "# close all the windows and release the camera\n",
    "cv2.destroyAllWindows()\n",
    "cap.release()\n"
   ]
  },
  {
   "cell_type": "code",
   "execution_count": null,
   "id": "75cde677-5c82-4c3e-99bf-69a5c2de9f9a",
   "metadata": {},
   "outputs": [],
   "source": []
  }
 ],
 "metadata": {
  "kernelspec": {
   "display_name": "Python 3 (ipykernel)",
   "language": "python",
   "name": "python3"
  },
  "language_info": {
   "codemirror_mode": {
    "name": "ipython",
    "version": 3
   },
   "file_extension": ".py",
   "mimetype": "text/x-python",
   "name": "python",
   "nbconvert_exporter": "python",
   "pygments_lexer": "ipython3",
   "version": "3.9.10"
  }
 },
 "nbformat": 4,
 "nbformat_minor": 5
}
