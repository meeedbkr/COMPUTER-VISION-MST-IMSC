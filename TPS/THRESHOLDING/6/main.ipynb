{
 "cells": [
  {
   "cell_type": "code",
   "execution_count": 1,
   "id": "71020c4f-16a6-4a89-b2a6-65a510259437",
   "metadata": {
    "tags": []
   },
   "outputs": [],
   "source": [
    "# Import the OpenCV library\n",
    "import cv2\n",
    "\n",
    "# Load the grayscale image from file\n",
    "img = cv2.imread('..//..//assets//sudoku.png', cv2.IMREAD_GRAYSCALE)\n",
    "\n",
    "# Resize the image to half its original size using interpolation\n",
    "img = cv2.resize(img, None, fx=0.5, fy=0.5, interpolation=cv2.INTER_AREA)\n",
    "\n",
    "# Apply Otsu thresholding to the image\n",
    "_, th = cv2.threshold(img, 0, 255, cv2.THRESH_BINARY + cv2.THRESH_OTSU)\n",
    "\n",
    "# Display the original and thresholded images in separate windows\n",
    "cv2.imshow('Image originale', img)\n",
    "cv2.imshow('Seuillage d\\'Otsu', th)\n",
    "\n",
    "# Wait for a key press to close the windows\n",
    "cv2.waitKey(0)\n",
    "\n",
    "# Close all windows\n",
    "cv2.destroyAllWindows()\n"
   ]
  },
  {
   "cell_type": "code",
   "execution_count": null,
   "id": "1cd74360-1c6a-4f13-ae28-10a9c37494b1",
   "metadata": {},
   "outputs": [],
   "source": []
  }
 ],
 "metadata": {
  "kernelspec": {
   "display_name": "Python 3 (ipykernel)",
   "language": "python",
   "name": "python3"
  },
  "language_info": {
   "codemirror_mode": {
    "name": "ipython",
    "version": 3
   },
   "file_extension": ".py",
   "mimetype": "text/x-python",
   "name": "python",
   "nbconvert_exporter": "python",
   "pygments_lexer": "ipython3",
   "version": "3.9.10"
  }
 },
 "nbformat": 4,
 "nbformat_minor": 5
}
