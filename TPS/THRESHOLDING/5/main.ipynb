{
 "cells": [
  {
   "cell_type": "code",
   "execution_count": 5,
   "id": "eca62c4c-4067-4313-b814-ace1004aa5b9",
   "metadata": {
    "tags": []
   },
   "outputs": [],
   "source": [
    "import cv2\n",
    "\n",
    "# Load the image in grayscale\n",
    "img = cv2.imread('..//..//assets//sudoku.png', cv2.IMREAD_GRAYSCALE)\n",
    "\n",
    "# Resize the image to half of its original size using bilinear interpolation\n",
    "img = cv2.resize(img, None, fx=0.5, fy=0.5, interpolation=cv2.INTER_AREA)\n",
    "\n",
    "# Apply Gaussian blur with a kernel size of 5x5 to remove noise\n",
    "blur = cv2.GaussianBlur(img, (5, 5), 0)\n",
    "\n",
    "# Apply Otsu's thresholding method to binarize the image\n",
    "_, th = cv2.threshold(blur, 0, 255, cv2.THRESH_BINARY+cv2.THRESH_OTSU)\n",
    "\n",
    "# Display the original image and the thresholded image\n",
    "cv2.imshow('Original Image', img)\n",
    "cv2.imshow('Adaptive Thresholding Otsu', th)\n",
    "\n",
    "# Wait for a key press to close the windows\n",
    "cv2.waitKey(0)\n",
    "cv2.destroyAllWindows()\n"
   ]
  },
  {
   "cell_type": "code",
   "execution_count": null,
   "id": "6bf8d8a1-cc3d-4460-87e1-1407f3d152e8",
   "metadata": {},
   "outputs": [],
   "source": []
  }
 ],
 "metadata": {
  "kernelspec": {
   "display_name": "Python 3 (ipykernel)",
   "language": "python",
   "name": "python3"
  },
  "language_info": {
   "codemirror_mode": {
    "name": "ipython",
    "version": 3
   },
   "file_extension": ".py",
   "mimetype": "text/x-python",
   "name": "python",
   "nbconvert_exporter": "python",
   "pygments_lexer": "ipython3",
   "version": "3.9.10"
  }
 },
 "nbformat": 4,
 "nbformat_minor": 5
}
