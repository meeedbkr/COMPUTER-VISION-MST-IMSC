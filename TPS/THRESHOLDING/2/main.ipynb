{
 "cells": [
  {
   "cell_type": "code",
   "execution_count": 1,
   "id": "5fc652c5-1709-4412-8475-124d0f6cffdc",
   "metadata": {
    "tags": []
   },
   "outputs": [],
   "source": [
    "import cv2\n",
    "\n",
    "# Load the image in grayscale\n",
    "img = cv2.imread('..//..//assets//sudoku.png', cv2.IMREAD_GRAYSCALE)\n",
    "\n",
    "# Resize the image to half its size\n",
    "img = cv2.resize(img, None, fx=0.5, fy=0.5, interpolation=cv2.INTER_AREA)\n",
    "\n",
    "# Apply adaptive thresholding with Gaussian neighborhood and a block size of 11\n",
    "# The value of C is set to 2\n",
    "th = cv2.adaptiveThreshold(img, 255, cv2.ADAPTIVE_THRESH_GAUSSIAN_C, cv2.THRESH_BINARY, 11, 2)\n",
    "\n",
    "# Display the original and the thresholded image\n",
    "cv2.imshow('image', img)\n",
    "cv2.imshow('Adaptive threshold', th)\n",
    "\n",
    "# Wait for a key press to exit\n",
    "cv2.waitKey(0)\n",
    "\n",
    "# Close all windows when done displaying the image\n",
    "cv2.destroyAllWindows()\n"
   ]
  },
  {
   "cell_type": "code",
   "execution_count": null,
   "id": "99c47e24-4e56-40fd-8a39-6bd103839a57",
   "metadata": {},
   "outputs": [],
   "source": []
  }
 ],
 "metadata": {
  "kernelspec": {
   "display_name": "Python 3 (ipykernel)",
   "language": "python",
   "name": "python3"
  },
  "language_info": {
   "codemirror_mode": {
    "name": "ipython",
    "version": 3
   },
   "file_extension": ".py",
   "mimetype": "text/x-python",
   "name": "python",
   "nbconvert_exporter": "python",
   "pygments_lexer": "ipython3",
   "version": "3.9.10"
  }
 },
 "nbformat": 4,
 "nbformat_minor": 5
}
