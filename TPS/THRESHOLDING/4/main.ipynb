{
 "cells": [
  {
   "cell_type": "code",
   "execution_count": null,
   "id": "78acf889-1dec-4115-8fe5-3ab4e973dec2",
   "metadata": {},
   "outputs": [],
   "source": [
    "import cv2\n",
    "\n",
    "# Load the image in grayscale\n",
    "img = cv2.imread('C:/Users/PC/Pictures/sudoku.png', cv2.IMREAD_GRAYSCALE)\n",
    "\n",
    "# Resize the image to half of its original size using bilinear interpolation\n",
    "img = cv2.resize(img, None, fx=0.5, fy=0.5, interpolation=cv2.INTER_AREA)\n",
    "\n",
    "# Apply adaptive thresholding using Gaussian method with a block size of 11 and a constant of 2\n",
    "th = cv2.adaptiveThreshold(img, 255, cv2.ADAPTIVE_THRESH_GAUSSIAN_C, cv2.THRESH_BINARY, 11, 2)\n",
    "\n",
    "# Display the original image and the thresholded image\n",
    "cv2.imshow('Original Image', img)\n",
    "cv2.imshow('Adaptive Thresholding', th)\n",
    "\n",
    "# Wait for a key press to close the windows\n",
    "cv2.waitKey(0)\n",
    "cv2.destroyAllWindows()\n"
   ]
  }
 ],
 "metadata": {
  "kernelspec": {
   "display_name": "Python 3 (ipykernel)",
   "language": "python",
   "name": "python3"
  },
  "language_info": {
   "codemirror_mode": {
    "name": "ipython",
    "version": 3
   },
   "file_extension": ".py",
   "mimetype": "text/x-python",
   "name": "python",
   "nbconvert_exporter": "python",
   "pygments_lexer": "ipython3",
   "version": "3.9.10"
  }
 },
 "nbformat": 4,
 "nbformat_minor": 5
}
