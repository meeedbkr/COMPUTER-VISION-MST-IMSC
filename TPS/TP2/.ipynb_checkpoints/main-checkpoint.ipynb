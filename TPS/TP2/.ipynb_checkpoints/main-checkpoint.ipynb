{
 "cells": [
  {
   "cell_type": "code",
   "execution_count": null,
   "id": "00e1427b-df6c-48ef-ad46-153b97db9995",
   "metadata": {},
   "outputs": [],
   "source": [
    "#Image masking\n",
    "\n",
    "import numpy as np\n",
    "import cv2\n",
    "\n",
    "image = cv2.imread('..//vpo.jpeg')\n",
    "cv2.imshow(\"Original\", image)\n",
    "\n",
    "###? Masking ###\n",
    "mask = np.zeros(image.shape[:2], dtype=np.uint8)\n",
    "center = (image.shape[1] // 2, image.shape[0] // 2)\n",
    "\n",
    "cv2.circle(mask, tuple(center), 200, 255, -1)\n",
    "cv2.imshow(\"Mask\", mask)\n",
    "\n",
    "selected = cv2.bitwise_and(image, image, mask=mask)\n",
    "cv2.imshow('With Mask', selected)\n",
    "cv2.waitKey(0)\n"
   ]
  }
 ],
 "metadata": {
  "kernelspec": {
   "display_name": "Python 3 (ipykernel)",
   "language": "python",
   "name": "python3"
  },
  "language_info": {
   "codemirror_mode": {
    "name": "ipython",
    "version": 3
   },
   "file_extension": ".py",
   "mimetype": "text/x-python",
   "name": "python",
   "nbconvert_exporter": "python",
   "pygments_lexer": "ipython3",
   "version": "3.9.10"
  }
 },
 "nbformat": 4,
 "nbformat_minor": 5
}
