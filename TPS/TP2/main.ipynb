{
 "cells": [
  {
   "cell_type": "code",
   "execution_count": null,
   "id": "00e1427b-df6c-48ef-ad46-153b97db9995",
   "metadata": {
    "tags": []
   },
   "outputs": [],
   "source": [
    "# Importing necessary libraries\n",
    "import numpy as np\n",
    "import cv2\n",
    "\n",
    "# Setting image URL and loading it using OpenCV\n",
    "url = '..//assets//imgs//vpo.jpeg'\n",
    "image = cv2.imread(url)\n",
    "cv2.imshow(\"Original\", image)\n",
    "\n",
    "# Creating a black mask with the same dimensions as the image\n",
    "mask = np.zeros(image.shape[:2], dtype=np.uint8)\n",
    "\n",
    "# Determining the center of the image and creating a circle mask with radius 200 around the center\n",
    "center = (image.shape[1] // 2, image.shape[0] // 2)\n",
    "cv2.circle(mask, tuple(center), 200, 255, -1)\n",
    "\n",
    "# Applying the mask to the original image using the bitwise AND operation and displaying the masked image\n",
    "selected = cv2.bitwise_and(image, image, mask=mask)\n",
    "cv2.imshow('With Mask', selected)\n",
    "\n",
    "# Waiting for a key press to exit the window\n",
    "cv2.waitKey(0)\n"
   ]
  },
  {
   "cell_type": "code",
   "execution_count": null,
   "id": "d02c803f-a4d1-4757-84f2-996f53c6c08a",
   "metadata": {},
   "outputs": [],
   "source": []
  }
 ],
 "metadata": {
  "kernelspec": {
   "display_name": "Python 3 (ipykernel)",
   "language": "python",
   "name": "python3"
  },
  "language_info": {
   "codemirror_mode": {
    "name": "ipython",
    "version": 3
   },
   "file_extension": ".py",
   "mimetype": "text/x-python",
   "name": "python",
   "nbconvert_exporter": "python",
   "pygments_lexer": "ipython3",
   "version": "3.9.10"
  }
 },
 "nbformat": 4,
 "nbformat_minor": 5
}
