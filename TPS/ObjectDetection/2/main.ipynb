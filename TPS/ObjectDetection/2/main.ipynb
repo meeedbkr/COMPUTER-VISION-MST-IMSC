{
 "cells": [
  {
   "cell_type": "code",
   "execution_count": 5,
   "id": "643df376-85f6-4da1-8579-14fd0948d36e",
   "metadata": {},
   "outputs": [
    {
     "name": "stdout",
     "output_type": "stream",
     "text": [
      "There is no more frame to read, exiting...\n"
     ]
    }
   ],
   "source": [
    "import numpy as np\n",
    "import cv2\n",
    "\n",
    "# initialize the video capture object\n",
    "# cap = cv2.VideoCapture(\"examples/1.mp4\")\n",
    "cap = cv2.VideoCapture(\"..//..//assets//t-rex.mp4\")\n",
    "\n",
    "# grab the width, height, and fps of the frames in the video stream.\n",
    "frame_width = int(cap.get(cv2.CAP_PROP_FRAME_WIDTH))\n",
    "frame_height = int(cap.get(cv2.CAP_PROP_FRAME_HEIGHT))\n",
    "fps = int(cap.get(cv2.CAP_PROP_FPS))\n",
    "\n",
    "# initialize the FourCC and a video writer object\n",
    "fourcc = cv2.VideoWriter_fourcc(*'XVID')\n",
    "# output = cv2.VideoWriter('output.mp4', fourcc, fps, (frame_width, frame_height))\n",
    "output = cv2.VideoWriter(\"..//..//assets//out.mp4\", fourcc, fps, (frame_width, frame_height))\n",
    "\n",
    "while True:\n",
    "    # read a frame from the video stream\n",
    "    ret, frame = cap.read()\n",
    "\n",
    "    # check if the frame was successfully read\n",
    "    if not ret:\n",
    "        print(\"There is no more frame to read, exiting...\")\n",
    "        break\n",
    "\n",
    "    # convert the frame from BGR to HSV color space\n",
    "    hsv_frame = cv2.cvtColor(frame, cv2.COLOR_BGR2HSV)\n",
    "\n",
    "    # define the lower and upper limits for the blue color\n",
    "    lower_limit = np.array([0, 0, 63])\n",
    "    upper_limit = np.array([179, 165, 150])\n",
    "\n",
    "    # create a mask based on the color limits\n",
    "    mask = cv2.inRange(hsv_frame, lower_limit, upper_limit)\n",
    "\n",
    "    # get the bounding box of the detected object\n",
    "    bbox = cv2.boundingRect(mask)\n",
    "\n",
    "    # if we get a bounding box, use it to draw a rectangle on the image\n",
    "    if bbox is not None:\n",
    "        x, y, w, h = bbox\n",
    "        cv2.rectangle(frame, (x, y), (x + w, y + h), (0, 0, 255), 2)\n",
    "    else:\n",
    "        print(\"Object not detected\")\n",
    "\n",
    "    # display the processed frame\n",
    "    cv2.imshow('frame', frame)\n",
    "\n",
    "    # write the frame to the output file\n",
    "    output.write(frame)\n",
    "\n",
    "    # wait for the 'q' key to be pressed to quit the program\n",
    "    if cv2.waitKey(30) == ord('q'):\n",
    "        break\n",
    "\n",
    "# release the resources\n",
    "cap.release()\n",
    "output.release()\n",
    "cv2.destroyAllWindows()\n"
   ]
  },
  {
   "cell_type": "code",
   "execution_count": null,
   "id": "d2f98cc5-5139-463e-9c17-b57359873909",
   "metadata": {},
   "outputs": [],
   "source": []
  }
 ],
 "metadata": {
  "kernelspec": {
   "display_name": "Python 3 (ipykernel)",
   "language": "python",
   "name": "python3"
  },
  "language_info": {
   "codemirror_mode": {
    "name": "ipython",
    "version": 3
   },
   "file_extension": ".py",
   "mimetype": "text/x-python",
   "name": "python",
   "nbconvert_exporter": "python",
   "pygments_lexer": "ipython3",
   "version": "3.9.10"
  }
 },
 "nbformat": 4,
 "nbformat_minor": 5
}
