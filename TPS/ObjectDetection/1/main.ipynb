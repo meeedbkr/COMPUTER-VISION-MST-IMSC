{
 "cells": [
  {
   "cell_type": "code",
   "execution_count": 2,
   "id": "a5500e37-5570-4792-a9f7-153059b221a7",
   "metadata": {
    "tags": []
   },
   "outputs": [
    {
     "name": "stdout",
     "output_type": "stream",
     "text": [
      "Object detected\n"
     ]
    },
    {
     "data": {
      "text/plain": [
       "-1"
      ]
     },
     "execution_count": 2,
     "metadata": {},
     "output_type": "execute_result"
    }
   ],
   "source": [
    "import numpy as np\n",
    "import cv2\n",
    "\n",
    "# read the image\n",
    "image = cv2.imread('..//..//assets//4.jpg')\n",
    "\n",
    "# convert from BGR to HSV color space\n",
    "hsv_image = cv2.cvtColor(image, cv2.COLOR_BGR2HSV)\n",
    "\n",
    "# define the lower and upper limits for the white color\n",
    "lower_limit = np.array([75, 0, 99])\n",
    "upper_limit = np.array([179, 62, 255])\n",
    "\n",
    "# create a mask for the specified color range\n",
    "mask = cv2.inRange(hsv_image, lower_limit, upper_limit)\n",
    "\n",
    "# get the bounding box from the mask image\n",
    "bbox = cv2.boundingRect(mask)\n",
    "\n",
    "# if we get a bounding box, use it to draw a rectangle on the image\n",
    "if bbox is not None:\n",
    "    print(\"Object detected\")\n",
    "    x, y, w, h = bbox\n",
    "    cv2.rectangle(image, (x, y), (x + w, y + h), (0, 255, 0), 2)\n",
    "else:\n",
    "    print(\"Object not detected\")\n",
    "\n",
    "# display the image\n",
    "cv2.imshow('image', image)\n",
    "cv2.waitKey(0)\n"
   ]
  },
  {
   "cell_type": "code",
   "execution_count": null,
   "id": "573b5c96-93e5-4eca-87ce-49ad0029e339",
   "metadata": {},
   "outputs": [],
   "source": []
  }
 ],
 "metadata": {
  "kernelspec": {
   "display_name": "Python 3 (ipykernel)",
   "language": "python",
   "name": "python3"
  },
  "language_info": {
   "codemirror_mode": {
    "name": "ipython",
    "version": 3
   },
   "file_extension": ".py",
   "mimetype": "text/x-python",
   "name": "python",
   "nbconvert_exporter": "python",
   "pygments_lexer": "ipython3",
   "version": "3.9.10"
  }
 },
 "nbformat": 4,
 "nbformat_minor": 5
}
