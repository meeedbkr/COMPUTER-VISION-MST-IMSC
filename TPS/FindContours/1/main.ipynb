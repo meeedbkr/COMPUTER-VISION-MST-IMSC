{
 "cells": [
  {
   "cell_type": "code",
   "execution_count": null,
   "id": "6c253175-2dc2-4cd0-a00e-d5da1a1b8e5d",
   "metadata": {},
   "outputs": [],
   "source": [
    "# Import the OpenCV library\n",
    "import cv2\n",
    "\n",
    "# Read the image\n",
    "image = cv2.imread('..//..//assets//1.jpg')\n",
    "\n",
    "# Split the image into its B, G, R channels\n",
    "blue, green, red = cv2.split(image)\n",
    "\n",
    "# Detect contours using blue channel without thresholding\n",
    "contours1, hierarchy1 = cv2.findContours(image=blue, mode=cv2.RETR_TREE, method=cv2.CHAIN_APPROX_NONE)\n",
    "# Draw the detected contours on the original image in blue color\n",
    "image_contour_blue = image.copy()\n",
    "cv2.drawContours(image=image_contour_blue, contours=contours1, contourIdx=-1, color=(255, 0, 0), thickness=1, lineType=cv2.LINE_AA)\n",
    "# Show the results and save the image\n",
    "cv2.imshow('Contour detection using blue channels only', image_contour_blue)\n",
    "cv2.waitKey(0)\n",
    "cv2.imwrite('blue_channel.jpg', image_contour_blue)\n",
    "cv2.destroyAllWindows()\n",
    "\n",
    "# Detect contours using green channel without thresholding\n",
    "contours2, hierarchy2 = cv2.findContours(image=green, mode=cv2.RETR_TREE, method=cv2.CHAIN_APPROX_NONE)\n",
    "# Draw the detected contours on the original image in green color\n",
    "image_contour_green = image.copy()\n",
    "cv2.drawContours(image=image_contour_green, contours=contours2, contourIdx=-1, color=(0, 255, 0), thickness=1, lineType=cv2.LINE_AA)\n",
    "# Show the results and save the image\n",
    "cv2.imshow('Contour detection using green channels only', image_contour_green)\n",
    "cv2.waitKey(0)\n",
    "cv2.imwrite('green_channel.jpg', image_contour_green)\n",
    "cv2.destroyAllWindows()\n",
    "\n",
    "# Detect contours using red channel without thresholding\n",
    "contours3, hierarchy3 = cv2.findContours(image=red, mode=cv2.RETR_TREE, method=cv2.CHAIN_APPROX_NONE)\n",
    "# Draw the detected contours on the original image in red color\n",
    "image_contour_red = image.copy()\n",
    "cv2.drawContours(image=image_contour_red, contours=contours3, contourIdx=-1, color=(0, 0, 255), thickness=1, lineType=cv2.LINE_AA)\n",
    "# Show the results and save the image\n",
    "cv2.imshow('Contour detection using red channels only', image_contour_red)\n",
    "cv2.waitKey(0)\n",
    "cv2.imwrite('red_channel.jpg', image_contour_red)\n",
    "cv2.destroyAllWindows()\n"
   ]
  }
 ],
 "metadata": {
  "kernelspec": {
   "display_name": "Python 3 (ipykernel)",
   "language": "python",
   "name": "python3"
  },
  "language_info": {
   "codemirror_mode": {
    "name": "ipython",
    "version": 3
   },
   "file_extension": ".py",
   "mimetype": "text/x-python",
   "name": "python",
   "nbconvert_exporter": "python",
   "pygments_lexer": "ipython3",
   "version": "3.9.10"
  }
 },
 "nbformat": 4,
 "nbformat_minor": 5
}
