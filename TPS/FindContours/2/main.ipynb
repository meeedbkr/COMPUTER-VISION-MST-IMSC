{
 "cells": [
  {
   "cell_type": "code",
   "execution_count": 1,
   "id": "751fe358-6307-4225-a2bf-5176bb7c553c",
   "metadata": {
    "tags": []
   },
   "outputs": [],
   "source": [
    "import cv2\n",
    "\n",
    "# Load the image in grayscale\n",
    "image = cv2.imread(\"..//..//assets//2.png\", 0)\n",
    "\n",
    "# Apply a threshold to convert the image to black and white\n",
    "ret, thresh = cv2.threshold(image, 127, 255, 0)\n",
    "\n",
    "# Find the contours in the image\n",
    "contours, hierarchy = cv2.findContours(thresh, cv2.RETR_TREE, cv2.CHAIN_APPROX_SIMPLE)\n",
    "\n",
    "# Draw the contours on a copy of the original image\n",
    "image_contours = cv2.drawContours(image.copy(), contours, -1, (0, 255, 0), 3)\n",
    "\n",
    "# Display the image with the drawn contours\n",
    "cv2.imshow(\"Contours\", image_contours)\n",
    "cv2.waitKey(0)\n",
    "cv2.destroyAllWindows()\n"
   ]
  },
  {
   "cell_type": "code",
   "execution_count": null,
   "id": "fe7f877a-dd75-490d-8dd6-95be2edd9255",
   "metadata": {},
   "outputs": [],
   "source": []
  }
 ],
 "metadata": {
  "kernelspec": {
   "display_name": "Python 3 (ipykernel)",
   "language": "python",
   "name": "python3"
  },
  "language_info": {
   "codemirror_mode": {
    "name": "ipython",
    "version": 3
   },
   "file_extension": ".py",
   "mimetype": "text/x-python",
   "name": "python",
   "nbconvert_exporter": "python",
   "pygments_lexer": "ipython3",
   "version": "3.9.10"
  }
 },
 "nbformat": 4,
 "nbformat_minor": 5
}
