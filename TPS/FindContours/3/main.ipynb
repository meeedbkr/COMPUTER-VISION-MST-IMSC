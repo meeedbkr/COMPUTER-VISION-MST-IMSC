{
 "cells": [
  {
   "cell_type": "code",
   "execution_count": 2,
   "id": "c4265244-a07b-4f1f-b379-d7ce9f37ad31",
   "metadata": {
    "tags": []
   },
   "outputs": [],
   "source": [
    "import cv2\n",
    "\n",
    "# Load the image\n",
    "image = cv2.imread(\"..//..//assets//3.jpg\")\n",
    "\n",
    "# Convert the image to grayscale\n",
    "gray_image = cv2.cvtColor(image, cv2.COLOR_BGR2GRAY)\n",
    "\n",
    "# Apply thresholding to the grayscale image\n",
    "threshold_image = cv2.threshold(gray_image, 127, 255, cv2.THRESH_BINARY)[1]\n",
    "\n",
    "# Find contours in the thresholded image\n",
    "contours, hierarchy = cv2.findContours(threshold_image, cv2.RETR_TREE, cv2.CHAIN_APPROX_SIMPLE)\n",
    "\n",
    "# Draw the contours on the original image\n",
    "cv2.drawContours(image, contours, -1, (255, 255, 0), 2)\n",
    "\n",
    "# Display the image with the drawn contours\n",
    "cv2.imshow(\"Contours\", image)\n",
    "cv2.waitKey(0)\n",
    "cv2.destroyAllWindows()\n"
   ]
  },
  {
   "cell_type": "code",
   "execution_count": null,
   "id": "d1e50bd0-4f1d-4fd8-9655-25bfad9e8670",
   "metadata": {},
   "outputs": [],
   "source": []
  }
 ],
 "metadata": {
  "kernelspec": {
   "display_name": "Python 3 (ipykernel)",
   "language": "python",
   "name": "python3"
  },
  "language_info": {
   "codemirror_mode": {
    "name": "ipython",
    "version": 3
   },
   "file_extension": ".py",
   "mimetype": "text/x-python",
   "name": "python",
   "nbconvert_exporter": "python",
   "pygments_lexer": "ipython3",
   "version": "3.9.10"
  }
 },
 "nbformat": 4,
 "nbformat_minor": 5
}
