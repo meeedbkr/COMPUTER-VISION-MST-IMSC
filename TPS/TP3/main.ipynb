{
 "cells": [
  {
   "cell_type": "code",
   "execution_count": 1,
   "id": "691ab3ac-1670-4ade-97b3-c9a3e42fc1ed",
   "metadata": {
    "tags": []
   },
   "outputs": [
    {
     "data": {
      "text/plain": [
       "-1"
      ]
     },
     "execution_count": 1,
     "metadata": {},
     "output_type": "execute_result"
    }
   ],
   "source": [
    "# Splitting Merging\n",
    "import numpy as np\n",
    "import cv2\n",
    "\n",
    "image = cv2.imread('..//assets//imgs//vpo.jpeg')\n",
    "\n",
    "###? Splitting ###\n",
    "b, g, r = cv2.split(image)\n",
    "cv2.imshow(\"Red Channel\", r)\n",
    "cv2.imshow(\"Green Channel\", g)\n",
    "cv2.imshow(\"Blue Channel\", b)\n",
    "\n",
    "###? Merging ###\n",
    "zero = np.zeros(image.shape[:2], dtype=np.uint8)\n",
    "cv2.imshow(\"Red\", cv2.merge([zero, zero, r]))\n",
    "cv2.imshow(\"Green\", cv2.merge([zero, g, zero]))\n",
    "cv2.imshow(\"Blue\", cv2.merge([b, zero, zero]))\n",
    "\n",
    "merged = cv2.merge([b, g, r])\n",
    "cv2.imshow(\"Merged\", merged)\n",
    "cv2.waitKey(0)\n"
   ]
  },
  {
   "cell_type": "code",
   "execution_count": null,
   "id": "3f0a6d14-af8b-4a93-a491-bc1a3b8f7275",
   "metadata": {},
   "outputs": [],
   "source": []
  }
 ],
 "metadata": {
  "kernelspec": {
   "display_name": "Python 3 (ipykernel)",
   "language": "python",
   "name": "python3"
  },
  "language_info": {
   "codemirror_mode": {
    "name": "ipython",
    "version": 3
   },
   "file_extension": ".py",
   "mimetype": "text/x-python",
   "name": "python",
   "nbconvert_exporter": "python",
   "pygments_lexer": "ipython3",
   "version": "3.9.10"
  }
 },
 "nbformat": 4,
 "nbformat_minor": 5
}
