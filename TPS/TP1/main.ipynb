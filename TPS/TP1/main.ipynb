{
 "cells": [
  {
   "cell_type": "markdown",
   "id": "110d3161-1833-40b9-ad07-4dff27354a40",
   "metadata": {},
   "source": [
    "## bitwise operations "
   ]
  },
  {
   "cell_type": "code",
   "execution_count": 1,
   "id": "29900977-8883-45d9-8c0e-155bc9d89764",
   "metadata": {
    "tags": []
   },
   "outputs": [
    {
     "name": "stdout",
     "output_type": "stream",
     "text": [
      "It Wasn'T Zero.\n"
     ]
    },
    {
     "data": {
      "text/plain": [
       "-1"
      ]
     },
     "execution_count": 1,
     "metadata": {},
     "output_type": "execute_result"
    }
   ],
   "source": [
    "#Bitwise Operations\n",
    "\n",
    "import numpy as np\n",
    "import cv2\n",
    "\n",
    "# 300x300 black picture\n",
    "square = np.zeros((300, 300), dtype=\"uint8\")\n",
    "color = 255  # ! Why I used only one integer instead of a tuple?\n",
    "cv2.rectangle(square, (25, 25), (275, 275), color, 10)\n",
    "cv2.imshow(\"Square\", square)\n",
    "\n",
    "circle = np.zeros((300, 300), dtype=\"uint8\")\n",
    "cv2.circle(circle, (150, 150), 150, color, -1)\n",
    "cv2.imshow(\"Circle\", circle)\n",
    "\n",
    "#? And #\n",
    "bitwiseAnd = cv2.bitwise_and(square, circle)\n",
    "cv2.imshow(\"AND\", bitwiseAnd)\n",
    "\n",
    "\n",
    "#? Or #\n",
    "bitwiseOr = cv2.bitwise_or(square, circle)\n",
    "cv2.imshow(\"OR\", bitwiseOr)\n",
    "\n",
    "\n",
    "#? Xor #\n",
    "bitwiseXor = cv2.bitwise_xor(square, circle)\n",
    "cv2.imshow(\"XOR\", bitwiseXor)\n",
    "\n",
    "#? Truthy and Falsy Values #\n",
    "v = 1\n",
    "if v:\n",
    "    print(\"it wasn't zero.\".title())\n",
    "else:\n",
    "    print(\"it was zero.\".title())\n",
    "\n",
    "#? Not #\n",
    "bitwiseNot = cv2.bitwise_not(circle)\n",
    "cv2.imshow(\"NOT\", bitwiseNot)\n",
    "cv2.waitKey(0)\n"
   ]
  },
  {
   "cell_type": "code",
   "execution_count": null,
   "id": "dec68560-275d-4083-8cac-88dc68f4d3ac",
   "metadata": {},
   "outputs": [],
   "source": []
  }
 ],
 "metadata": {
  "kernelspec": {
   "display_name": "Python 3 (ipykernel)",
   "language": "python",
   "name": "python3"
  },
  "language_info": {
   "codemirror_mode": {
    "name": "ipython",
    "version": 3
   },
   "file_extension": ".py",
   "mimetype": "text/x-python",
   "name": "python",
   "nbconvert_exporter": "python",
   "pygments_lexer": "ipython3",
   "version": "3.9.10"
  }
 },
 "nbformat": 4,
 "nbformat_minor": 5
}
